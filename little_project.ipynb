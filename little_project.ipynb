{
 "cells": [
  {
   "cell_type": "markdown",
   "metadata": {},
   "source": [
    "# Wenkai Xu's Little Project\n",
    "Don Quixote  Versus. 20'000 Leagues Under the Sea"
   ]
  },
  {
   "cell_type": "markdown",
   "metadata": {},
   "source": [
    "# Introduction: \n",
    "In this little project, I will explore statistics for two classic novels: Don Quixote by Miguel de Cervantes and 20'000 Leagues Under the Sea by Jules Verne. The two books are in totally different genres: Don Quixote is a kind of satire or parody novel while 20'000 Leagues Under the Sea is a science fiction. Intuitively, the authors' narrative styles or contents of different genres are usually distinct. From Python programming language used below, I find out several differences between the two books.\n"
   ]
  },
  {
   "cell_type": "code",
   "execution_count": 66,
   "metadata": {
    "collapsed": true
   },
   "outputs": [],
   "source": [
    "# Run this first\n",
    "from datascience import *\n",
    "from datascience.predicates import are\n",
    "import numpy as np\n",
    "import matplotlib\n",
    "matplotlib.use('Agg', warn=False)\n",
    "%matplotlib inline\n",
    "import matplotlib.pyplot as plots\n",
    "plots.style.use('fivethirtyeight')\n",
    "import warnings\n",
    "warnings.simplefilter(action=\"ignore\", category=FutureWarning)\n",
    "\n",
    "from urllib.request import urlopen \n",
    "import re\n",
    "def read_url(url): \n",
    "    return re.sub('\\\\s+', ' ', urlopen(url).read().decode())"
   ]
  },
  {
   "cell_type": "code",
   "execution_count": 84,
   "metadata": {},
   "outputs": [],
   "source": [
    "# Don Quixote and 20'000 Leagues Under the Sea\n",
    "\n",
    "Don_url = 'http://www.gutenberg.org/files/5921/5921-0.txt'\n",
    "Don_text = read_url(Don_url)\n",
    "Don_chapters = Don_text.split('CHAPTER ')[53:]\n",
    "\n",
    "Sea_url = 'http://www.gutenberg.org/cache/epub/164/pg164.txt'\n",
    "Sea_text = read_url(Sea_url)\n",
    "Sea_chapters = Sea_text.split('CHAPTER ')[1:]"
   ]
  },
  {
   "cell_type": "markdown",
   "metadata": {},
   "source": [
    "# Literary Characters\n",
    "\n",
    "The book describes a gentleman named Quixote who reads so many chivalric romances that he loses his sanity and decides to set out to revive chivalry.He recruits a simple farmer, Sancho as his squire to begin his journey. We can quickly visualize how many times these characters have each been mentioned at any point in the book."
   ]
  },
  {
   "cell_type": "code",
   "execution_count": 85,
   "metadata": {},
   "outputs": [
    {
     "data": {
      "text/html": [
       "<table border=\"1\" class=\"dataframe\">\n",
       "    <thead>\n",
       "        <tr>\n",
       "            <th>Chapters</th>\n",
       "        </tr>\n",
       "    </thead>\n",
       "    <tbody>\n",
       "        <tr>\n",
       "            <td>I. WHICH TREATS OF THE CHARACTER AND PURSUITS OF THE FAM ...</td>\n",
       "        </tr>\n",
       "    </tbody>\n",
       "        <tr>\n",
       "            <td>II. WHICH TREATS OF THE FIRST SALLY THE INGENIOUS DON QU ...</td>\n",
       "        </tr>\n",
       "    </tbody>\n",
       "        <tr>\n",
       "            <td>III. WHEREIN IS RELATED THE DROLL WAY IN WHICH DON QUIXO ...</td>\n",
       "        </tr>\n",
       "    </tbody>\n",
       "        <tr>\n",
       "            <td>IV. OF WHAT HAPPENED TO OUR KNIGHT WHEN HE LEFT THE INN  ...</td>\n",
       "        </tr>\n",
       "    </tbody>\n",
       "        <tr>\n",
       "            <td>V. IN WHICH THE NARRATIVE OF OUR KNIGHT’S MISHAP IS CONT ...</td>\n",
       "        </tr>\n",
       "    </tbody>\n",
       "        <tr>\n",
       "            <td>VI. OF THE DIVERTING AND IMPORTANT SCRUTINY WHICH THE CU ...</td>\n",
       "        </tr>\n",
       "    </tbody>\n",
       "        <tr>\n",
       "            <td>VII. OF THE SECOND SALLY OF OUR WORTHY KNIGHT DON QUIXOT ...</td>\n",
       "        </tr>\n",
       "    </tbody>\n",
       "        <tr>\n",
       "            <td>VIII. OF THE GOOD FORTUNE WHICH THE VALIANT DON QUIXOTE  ...</td>\n",
       "        </tr>\n",
       "    </tbody>\n",
       "        <tr>\n",
       "            <td>IX. IN WHICH IS CONCLUDED AND FINISHED THE TERRIFIC BATT ...</td>\n",
       "        </tr>\n",
       "    </tbody>\n",
       "        <tr>\n",
       "            <td>X. OF THE PLEASANT DISCOURSE THAT PASSED BETWEEN DON QUI ...</td>\n",
       "        </tr>\n",
       "    </tbody>\n",
       "</table>\n",
       "<p>... (42 rows omitted)</p"
      ],
      "text/plain": [
       "Chapters\n",
       "I. WHICH TREATS OF THE CHARACTER AND PURSUITS OF THE FAM ...\n",
       "II. WHICH TREATS OF THE FIRST SALLY THE INGENIOUS DON QU ...\n",
       "III. WHEREIN IS RELATED THE DROLL WAY IN WHICH DON QUIXO ...\n",
       "IV. OF WHAT HAPPENED TO OUR KNIGHT WHEN HE LEFT THE INN  ...\n",
       "V. IN WHICH THE NARRATIVE OF OUR KNIGHT’S MISHAP IS CONT ...\n",
       "VI. OF THE DIVERTING AND IMPORTANT SCRUTINY WHICH THE CU ...\n",
       "VII. OF THE SECOND SALLY OF OUR WORTHY KNIGHT DON QUIXOT ...\n",
       "VIII. OF THE GOOD FORTUNE WHICH THE VALIANT DON QUIXOTE  ...\n",
       "IX. IN WHICH IS CONCLUDED AND FINISHED THE TERRIFIC BATT ...\n",
       "X. OF THE PLEASANT DISCOURSE THAT PASSED BETWEEN DON QUI ...\n",
       "... (42 rows omitted)"
      ]
     },
     "execution_count": 85,
     "metadata": {},
     "output_type": "execute_result"
    }
   ],
   "source": [
    "# Display the chapters of Don Quixote in a table.\n",
    "\n",
    "Table().with_column('Chapters', Don_chapters)"
   ]
  },
  {
   "cell_type": "code",
   "execution_count": 102,
   "metadata": {},
   "outputs": [],
   "source": [
    "# Count how many times the names Don Quixote, Sancho, Dulcinea and Rocinante appear in each chapter.\n",
    "\n",
    "counts = Table().with_columns([\n",
    "        'Don Quixote', np.char.count(Don_chapters, 'Don Quixote'),\n",
    "        'Sancho', np.char.count(Don_chapters, 'Sancho'),\n",
    "        'Dulcinea', np.char.count(Don_chapters, 'Dulcinea'),\n",
    "        'Rocinante', np.char.count(Don_chapters, 'Rocinante')\n",
    "    ])"
   ]
  },
  {
   "cell_type": "code",
   "execution_count": 103,
   "metadata": {},
   "outputs": [
    {
     "data": {
      "image/png": "[encoded data removed]",
      "text/plain": [
       "<matplotlib.figure.Figure at 0x438ab21438>"
      ]
     },
     "metadata": {},
     "output_type": "display_data"
    }
   ],
   "source": [
    "# Plot the cumulative counts:\n",
    "# how many times in Chapter 1, how many times in Chapters 1 and 2, and so on.\n",
    "\n",
    "cum_counts = counts.cumsum().with_column('Chapter', np.arange(1, 53, 1))\n",
    "cum_counts.plot(column_for_xticks=4)\n",
    "plots.title('Cumulative Number of Times Name Appears');"
   ]
  },
  {
   "cell_type": "markdown",
   "metadata": {},
   "source": [
    "Here is the frequency of main characters in Don Quixote. From the graph above, we can clearly see that the main characters are Quixote and Sancho. The third biggest \"character\" is Rocinante, who is a horse of Quixote. The novel is mainly about Quixote and his squire Sancho, as well as Quixote's the crazy imagination of chivalry. "
   ]
  },
  {
   "cell_type": "markdown",
   "metadata": {},
   "source": [
    "20'000 Leagues Under the Sea tells a story about Professor Aronnax and his assistant Conseil's adventure in Captain Nemo's ship under the sea."
   ]
  },
  {
   "cell_type": "code",
   "execution_count": 104,
   "metadata": {},
   "outputs": [
    {
     "data": {
      "text/html": [
       "<table border=\"1\" class=\"dataframe\">\n",
       "    <thead>\n",
       "        <tr>\n",
       "            <th>Chapters</th>\n",
       "        </tr>\n",
       "    </thead>\n",
       "    <tbody>\n",
       "        <tr>\n",
       "            <td>I A SHIFTING REEF The year 1866 was signalised by a rema ...</td>\n",
       "        </tr>\n",
       "    </tbody>\n",
       "        <tr>\n",
       "            <td>II PRO AND CON At the period when these events took plac ...</td>\n",
       "        </tr>\n",
       "    </tbody>\n",
       "        <tr>\n",
       "            <td>III I FORM MY RESOLUTION Three seconds before the arriva ...</td>\n",
       "        </tr>\n",
       "    </tbody>\n",
       "        <tr>\n",
       "            <td>IV NED LAND Captain Farragut was a good seaman, worthy o ...</td>\n",
       "        </tr>\n",
       "    </tbody>\n",
       "        <tr>\n",
       "            <td>V AT A VENTURE The voyage of the Abraham Lincoln was for ...</td>\n",
       "        </tr>\n",
       "    </tbody>\n",
       "        <tr>\n",
       "            <td>VI AT FULL STEAM At this cry the whole ship's crew hurri ...</td>\n",
       "        </tr>\n",
       "    </tbody>\n",
       "        <tr>\n",
       "            <td>VII AN UNKNOWN SPECIES OF WHALE This unexpected fall so  ...</td>\n",
       "        </tr>\n",
       "    </tbody>\n",
       "        <tr>\n",
       "            <td>VIII MOBILIS IN MOBILI This forcible abduction, so rough ...</td>\n",
       "        </tr>\n",
       "    </tbody>\n",
       "        <tr>\n",
       "            <td>IX NED LAND'S TEMPERS How long we slept I do not know; b ...</td>\n",
       "        </tr>\n",
       "    </tbody>\n",
       "        <tr>\n",
       "            <td>X THE MAN OF THE SEAS It was the commander of the vessel ...</td>\n",
       "        </tr>\n",
       "    </tbody>\n",
       "</table>\n",
       "<p>... (36 rows omitted)</p"
      ],
      "text/plain": [
       "Chapters\n",
       "I A SHIFTING REEF The year 1866 was signalised by a rema ...\n",
       "II PRO AND CON At the period when these events took plac ...\n",
       "III I FORM MY RESOLUTION Three seconds before the arriva ...\n",
       "IV NED LAND Captain Farragut was a good seaman, worthy o ...\n",
       "V AT A VENTURE The voyage of the Abraham Lincoln was for ...\n",
       "VI AT FULL STEAM At this cry the whole ship's crew hurri ...\n",
       "VII AN UNKNOWN SPECIES OF WHALE This unexpected fall so  ...\n",
       "VIII MOBILIS IN MOBILI This forcible abduction, so rough ...\n",
       "IX NED LAND'S TEMPERS How long we slept I do not know; b ...\n",
       "X THE MAN OF THE SEAS It was the commander of the vessel ...\n",
       "... (36 rows omitted)"
      ]
     },
     "execution_count": 104,
     "metadata": {},
     "output_type": "execute_result"
    }
   ],
   "source": [
    "# The chapters of 20'000 Leagues Under the Sea, in a table\n",
    "\n",
    "Table().with_column('Chapters', Sea_chapters)"
   ]
  },
  {
   "cell_type": "code",
   "execution_count": 105,
   "metadata": {
    "collapsed": true,
    "scrolled": true
   },
   "outputs": [],
   "source": [
    "# Counts of names in the chapters of 20'000 Leagues Under the Sea\n",
    "\n",
    "\n",
    "\n",
    "counts = Table().with_columns([\n",
    "        'Aronnax', people_counts['Aronnax'],\n",
    "        'Conseil', people_counts['Conseil'],\n",
    "        'Ned Land', people_counts['Ned Land'],\n",
    "        'Nemo', people_counts['Nemo'],\n",
    "    ])"
   ]
  },
  {
   "cell_type": "code",
   "execution_count": 106,
   "metadata": {},
   "outputs": [
    {
     "data": {
      "image/png": "[encoded data removed]",
      "text/plain": [
       "<matplotlib.figure.Figure at 0x43880cc9e8>"
      ]
     },
     "metadata": {},
     "output_type": "display_data"
    }
   ],
   "source": [
    "# Plot the cumulative counts.\n",
    "\n",
    "cum_counts = counts.cumsum().with_column('Chapter', np.arange(1, 47, 1))\n",
    "cum_counts.plot(column_for_xticks=4)\n",
    "plots.title('Cumulative Number of Times Name Appears');"
   ]
  },
  {
   "cell_type": "markdown",
   "metadata": {},
   "source": [
    "From the graph above, we can visualize that Captain Nemo appears most frequently because everything is happened in his ship and he is the most important and mysterious character in the novel. For Prof. Aronnax, though he plays a central role, his name hardly appears at all because he is the narrator. Comparing both graphs, we can see the difference: In Don Quixote, the story is solely about Don Quixote, meeting with random peoples. However, in 20'000 Leagues Under the Sea, the storyline is about the four main characters and their interactions in the enclosed environment."
   ]
  },
  {
   "cell_type": "markdown",
   "metadata": {},
   "source": [
    "# Secondly,\n",
    "\n",
    "I look on the Chapter Length and Number of Periods of both novels.\n",
    "I have found something interesting which is different from our readings. \n",
    "Two different novels tend to have different ratio of chapter length to number of periods."
   ]
  },
  {
   "cell_type": "code",
   "execution_count": 107,
   "metadata": {
    "collapsed": true
   },
   "outputs": [],
   "source": [
    "# In each chapter, count the number of all characters;\n",
    "# call this the \"length\" of the chapter.\n",
    "# Also count the number of periods.\n",
    "\n",
    "chars_periods_Don = Table().with_columns([\n",
    "        'Don Chapter Length', [len(s) for s in Don_chapters],\n",
    "        'Number of Periods', np.char.count(Don_chapters, '.')\n",
    "    ])\n",
    "chars_periods_Sea = Table().with_columns([\n",
    "        'Sea Chapter Length', [len(s) for s in Sea_chapters],\n",
    "        'Number of Periods', np.char.count(Sea_chapters, '.')\n",
    "    ])"
   ]
  },
  {
   "cell_type": "code",
   "execution_count": 108,
   "metadata": {},
   "outputs": [
    {
     "data": {
      "text/html": [
       "<table border=\"1\" class=\"dataframe\">\n",
       "    <thead>\n",
       "        <tr>\n",
       "            <th>Don Chapter Length</th> <th>Number of Periods</th>\n",
       "        </tr>\n",
       "    </thead>\n",
       "    <tbody>\n",
       "        <tr>\n",
       "            <td>10971             </td> <td>37               </td>\n",
       "        </tr>\n",
       "    </tbody>\n",
       "        <tr>\n",
       "            <td>12811             </td> <td>39               </td>\n",
       "        </tr>\n",
       "    </tbody>\n",
       "        <tr>\n",
       "            <td>13647             </td> <td>42               </td>\n",
       "        </tr>\n",
       "    </tbody>\n",
       "        <tr>\n",
       "            <td>13754             </td> <td>52               </td>\n",
       "        </tr>\n",
       "    </tbody>\n",
       "        <tr>\n",
       "            <td>8987              </td> <td>27               </td>\n",
       "        </tr>\n",
       "    </tbody>\n",
       "        <tr>\n",
       "            <td>14968             </td> <td>78               </td>\n",
       "        </tr>\n",
       "    </tbody>\n",
       "        <tr>\n",
       "            <td>10777             </td> <td>44               </td>\n",
       "        </tr>\n",
       "    </tbody>\n",
       "        <tr>\n",
       "            <td>16887             </td> <td>66               </td>\n",
       "        </tr>\n",
       "    </tbody>\n",
       "        <tr>\n",
       "            <td>11389             </td> <td>33               </td>\n",
       "        </tr>\n",
       "    </tbody>\n",
       "        <tr>\n",
       "            <td>11124             </td> <td>33               </td>\n",
       "        </tr>\n",
       "    </tbody>\n",
       "</table>\n",
       "<p>... (42 rows omitted)</p"
      ],
      "text/plain": [
       "Don Chapter Length | Number of Periods\n",
       "10971              | 37\n",
       "12811              | 39\n",
       "13647              | 42\n",
       "13754              | 52\n",
       "8987               | 27\n",
       "14968              | 78\n",
       "10777              | 44\n",
       "16887              | 66\n",
       "11389              | 33\n",
       "11124              | 33\n",
       "... (42 rows omitted)"
      ]
     },
     "execution_count": 108,
     "metadata": {},
     "output_type": "execute_result"
    }
   ],
   "source": [
    "# The counts for Huckleberry Finn\n",
    "\n",
    "chars_periods_Don"
   ]
  },
  {
   "cell_type": "markdown",
   "metadata": {},
   "source": [
    "Here are the corresponding data for 20'000 Leagues Under the Sea:"
   ]
  },
  {
   "cell_type": "code",
   "execution_count": 109,
   "metadata": {},
   "outputs": [
    {
     "data": {
      "text/html": [
       "<table border=\"1\" class=\"dataframe\">\n",
       "    <thead>\n",
       "        <tr>\n",
       "            <th>Sea Chapter Length</th> <th>Number of Periods</th>\n",
       "        </tr>\n",
       "    </thead>\n",
       "    <tbody>\n",
       "        <tr>\n",
       "            <td>9798              </td> <td>69               </td>\n",
       "        </tr>\n",
       "    </tbody>\n",
       "        <tr>\n",
       "            <td>9229              </td> <td>76               </td>\n",
       "        </tr>\n",
       "    </tbody>\n",
       "        <tr>\n",
       "            <td>5837              </td> <td>63               </td>\n",
       "        </tr>\n",
       "    </tbody>\n",
       "        <tr>\n",
       "            <td>10515             </td> <td>83               </td>\n",
       "        </tr>\n",
       "    </tbody>\n",
       "        <tr>\n",
       "            <td>9317              </td> <td>81               </td>\n",
       "        </tr>\n",
       "    </tbody>\n",
       "        <tr>\n",
       "            <td>13619             </td> <td>153              </td>\n",
       "        </tr>\n",
       "    </tbody>\n",
       "        <tr>\n",
       "            <td>10948             </td> <td>117              </td>\n",
       "        </tr>\n",
       "    </tbody>\n",
       "        <tr>\n",
       "            <td>11319             </td> <td>120              </td>\n",
       "        </tr>\n",
       "    </tbody>\n",
       "        <tr>\n",
       "            <td>5000              </td> <td>54               </td>\n",
       "        </tr>\n",
       "    </tbody>\n",
       "        <tr>\n",
       "            <td>26950             </td> <td>240              </td>\n",
       "        </tr>\n",
       "    </tbody>\n",
       "</table>\n",
       "<p>... (36 rows omitted)</p"
      ],
      "text/plain": [
       "Sea Chapter Length | Number of Periods\n",
       "9798               | 69\n",
       "9229               | 76\n",
       "5837               | 63\n",
       "10515              | 83\n",
       "9317               | 81\n",
       "13619              | 153\n",
       "10948              | 117\n",
       "11319              | 120\n",
       "5000               | 54\n",
       "26950              | 240\n",
       "... (36 rows omitted)"
      ]
     },
     "execution_count": 109,
     "metadata": {},
     "output_type": "execute_result"
    }
   ],
   "source": [
    "# The counts for 20'000 Leagues Under the Sea\n",
    "\n",
    "chars_periods_Sea"
   ]
  },
  {
   "cell_type": "markdown",
   "metadata": {},
   "source": [
    "We can see that the chapter length of the two novels is similar, but 20'000 Leagues Under the Sea uses twice as many as number of periods compared with in Don Quixote. Why does 20'000 Leagues Under the Sea use more periods?"
   ]
  },
  {
   "cell_type": "code",
   "execution_count": 96,
   "metadata": {},
   "outputs": [
    {
     "data": {
      "image/png": "[encoded data removed]",
      "text/plain": [
       "<matplotlib.figure.Figure at 0x4389ce43c8>"
      ]
     },
     "metadata": {},
     "output_type": "display_data"
    }
   ],
   "source": [
    "plots.figure(figsize=(10,10))\n",
    "plots.scatter(chars_periods_Don[1], chars_periods_Don[0], color='darkblue')\n",
    "plots.scatter(chars_periods_Sea[1], chars_periods_Sea[0], color='gold')\n",
    "plots.xlabel('Number of periods in chapter')\n",
    "plots.ylabel('Number of characters in chapter');"
   ]
  },
  {
   "cell_type": "markdown",
   "metadata": {},
   "source": [
    "The plot above helps us clearly visualize the relationship between chapter length and number of periods in two different books. The blue points are for Don Quixote and the yellow ones stand for 20'000 Leagues Under the Sea. The blue points' slope is much more steep than the yellow ones', which means ratio of chapter length to number of periods is larger in Don Quixote. In Don Quixote, it's about 320 characters per period and in 20'000 Leagues Under the Sea its about 100 characters per period. The conclusion of what we can draw from data is that 20'000 Leagues Under the Sea uses periods much more frequently. The reason behind this needs further investigation. I will first just take a guess: In 20'000 Leagues Under the Sea, there're many conversations between the four main protagonists. Conversations can be very short for just like one to five words. However, Don Quixote mainly describes the activities of Quixote and is lack of conversations which makes the overall sentences lengthy. "
   ]
  },
  {
   "cell_type": "markdown",
   "metadata": {},
   "source": [
    "# Thirdly,\n",
    "\n",
    "I begin to investigate the counts of different types of character in the first chapter of Don Quixote and fourth chapter of 20'000 Leagues Under the Sea. I choose 1st chapter of Don and 4th of Sea because both chapter has approximately 10000 characters in total."
   ]
  },
  {
   "cell_type": "code",
   "execution_count": 131,
   "metadata": {},
   "outputs": [
    {
     "data": {
      "text/html": [
       "<table border=\"1\" class=\"dataframe\">\n",
       "    <thead>\n",
       "        <tr>\n",
       "            <th>Letters</th> <th>Chapter 1 Count</th>\n",
       "        </tr>\n",
       "    </thead>\n",
       "    <tbody>\n",
       "        <tr>\n",
       "            <td>       </td> <td>2031           </td>\n",
       "        </tr>\n",
       "    </tbody>\n",
       "        <tr>\n",
       "            <td>!      </td> <td>1              </td>\n",
       "        </tr>\n",
       "    </tbody>\n",
       "        <tr>\n",
       "            <td>(      </td> <td>4              </td>\n",
       "        </tr>\n",
       "    </tbody>\n",
       "        <tr>\n",
       "            <td>)      </td> <td>4              </td>\n",
       "        </tr>\n",
       "    </tbody>\n",
       "        <tr>\n",
       "            <td>,      </td> <td>187            </td>\n",
       "        </tr>\n",
       "    </tbody>\n",
       "        <tr>\n",
       "            <td>-      </td> <td>25             </td>\n",
       "        </tr>\n",
       "    </tbody>\n",
       "        <tr>\n",
       "            <td>.      </td> <td>37             </td>\n",
       "        </tr>\n",
       "    </tbody>\n",
       "        <tr>\n",
       "            <td>;      </td> <td>13             </td>\n",
       "        </tr>\n",
       "    </tbody>\n",
       "        <tr>\n",
       "            <td>?      </td> <td>1              </td>\n",
       "        </tr>\n",
       "    </tbody>\n",
       "        <tr>\n",
       "            <td>a      </td> <td>780            </td>\n",
       "        </tr>\n",
       "    </tbody>\n",
       "        <tr>\n",
       "            <td>b      </td> <td>126            </td>\n",
       "        </tr>\n",
       "    </tbody>\n",
       "        <tr>\n",
       "            <td>c      </td> <td>219            </td>\n",
       "        </tr>\n",
       "    </tbody>\n",
       "        <tr>\n",
       "            <td>d      </td> <td>384            </td>\n",
       "        </tr>\n",
       "    </tbody>\n",
       "        <tr>\n",
       "            <td>e      </td> <td>990            </td>\n",
       "        </tr>\n",
       "    </tbody>\n",
       "        <tr>\n",
       "            <td>f      </td> <td>230            </td>\n",
       "        </tr>\n",
       "    </tbody>\n",
       "        <tr>\n",
       "            <td>g      </td> <td>188            </td>\n",
       "        </tr>\n",
       "    </tbody>\n",
       "        <tr>\n",
       "            <td>h      </td> <td>620            </td>\n",
       "        </tr>\n",
       "    </tbody>\n",
       "        <tr>\n",
       "            <td>i      </td> <td>599            </td>\n",
       "        </tr>\n",
       "    </tbody>\n",
       "        <tr>\n",
       "            <td>j      </td> <td>5              </td>\n",
       "        </tr>\n",
       "    </tbody>\n",
       "        <tr>\n",
       "            <td>k      </td> <td>74             </td>\n",
       "        </tr>\n",
       "    </tbody>\n",
       "</table>\n",
       "<p>... (19 rows omitted)</p"
      ],
      "text/plain": [
       "<IPython.core.display.HTML object>"
      ]
     },
     "metadata": {},
     "output_type": "display_data"
    }
   ],
   "source": [
    "from collections import Counter\n",
    "\n",
    "chapter_one = Don_chapters[0]\n",
    "counts = Counter(chapter_one.lower())\n",
    "letters = Table([counts.keys(), counts.values()], ['Letters', 'Chapter 1 Count'])\n",
    "letters.sort('Letters').show(20)"
   ]
  },
  {
   "cell_type": "code",
   "execution_count": 132,
   "metadata": {},
   "outputs": [
    {
     "data": {
      "text/html": [
       "<table border=\"1\" class=\"dataframe\">\n",
       "    <thead>\n",
       "        <tr>\n",
       "            <th>Letters</th> <th>Chapter 4 Count</th>\n",
       "        </tr>\n",
       "    </thead>\n",
       "    <tbody>\n",
       "        <tr>\n",
       "            <td>       </td> <td>1859           </td>\n",
       "        </tr>\n",
       "    </tbody>\n",
       "        <tr>\n",
       "            <td>!      </td> <td>8              </td>\n",
       "        </tr>\n",
       "    </tbody>\n",
       "        <tr>\n",
       "            <td>\"      </td> <td>62             </td>\n",
       "        </tr>\n",
       "    </tbody>\n",
       "        <tr>\n",
       "            <td>'      </td> <td>4              </td>\n",
       "        </tr>\n",
       "    </tbody>\n",
       "        <tr>\n",
       "            <td>(      </td> <td>3              </td>\n",
       "        </tr>\n",
       "    </tbody>\n",
       "        <tr>\n",
       "            <td>)      </td> <td>3              </td>\n",
       "        </tr>\n",
       "    </tbody>\n",
       "        <tr>\n",
       "            <td>,      </td> <td>180            </td>\n",
       "        </tr>\n",
       "    </tbody>\n",
       "        <tr>\n",
       "            <td>-      </td> <td>22             </td>\n",
       "        </tr>\n",
       "    </tbody>\n",
       "        <tr>\n",
       "            <td>.      </td> <td>83             </td>\n",
       "        </tr>\n",
       "    </tbody>\n",
       "        <tr>\n",
       "            <td>0      </td> <td>34             </td>\n",
       "        </tr>\n",
       "    </tbody>\n",
       "        <tr>\n",
       "            <td>1      </td> <td>6              </td>\n",
       "        </tr>\n",
       "    </tbody>\n",
       "        <tr>\n",
       "            <td>2      </td> <td>8              </td>\n",
       "        </tr>\n",
       "    </tbody>\n",
       "        <tr>\n",
       "            <td>3      </td> <td>9              </td>\n",
       "        </tr>\n",
       "    </tbody>\n",
       "        <tr>\n",
       "            <td>5      </td> <td>8              </td>\n",
       "        </tr>\n",
       "    </tbody>\n",
       "        <tr>\n",
       "            <td>6      </td> <td>5              </td>\n",
       "        </tr>\n",
       "    </tbody>\n",
       "        <tr>\n",
       "            <td>7      </td> <td>4              </td>\n",
       "        </tr>\n",
       "    </tbody>\n",
       "        <tr>\n",
       "            <td>8      </td> <td>1              </td>\n",
       "        </tr>\n",
       "    </tbody>\n",
       "        <tr>\n",
       "            <td>9      </td> <td>3              </td>\n",
       "        </tr>\n",
       "    </tbody>\n",
       "        <tr>\n",
       "            <td>:      </td> <td>1              </td>\n",
       "        </tr>\n",
       "    </tbody>\n",
       "        <tr>\n",
       "            <td>;      </td> <td>13             </td>\n",
       "        </tr>\n",
       "    </tbody>\n",
       "</table>\n",
       "<p>... (26 rows omitted)</p"
      ],
      "text/plain": [
       "<IPython.core.display.HTML object>"
      ]
     },
     "metadata": {},
     "output_type": "display_data"
    }
   ],
   "source": [
    "Sea_chapter_four = Sea_chapters[3]\n",
    "counts = Counter(Sea_chapter_four.lower())\n",
    "letters = Table([counts.keys(), counts.values()], ['Letters', 'Chapter 4 Count'])\n",
    "letters.sort('Letters').show(20)"
   ]
  },
  {
   "cell_type": "markdown",
   "metadata": {},
   "source": [
    "From the two data, we can see that in chapter 4 of 20'000 Leagues Under the Sea, there're 62 double quotation marks \"\" in total while in Don Quixote there's no double quotation mark. By viewing 20'000 Leagues Under the Sea's text, there are indeed many short conversations between Nemo and Aronnax in that chapter. Also, there are 8 exclamation marks in 20'000 Leagues Under the Sea, exclamation marks always appear in a conversation. This result confirms my guess. What's more, I also find another interesting thing: in 20'000 Leagues Under the Sea, there are always many number characters(0-9) while in Don Quixote there is always no numbers at all! I think it is because 20000 Leagues Under the Sea is a sci-fi novel which always need numbers in its narration.\n"
   ]
  },
  {
   "cell_type": "markdown",
   "metadata": {},
   "source": [
    "# Conclusion:\n",
    "\n",
    "From Python Programming and data visualization, I can indeed find something unnoticed before. Computers are quick at reading and dealing with data, combining multiple sources. We can use the computer to get some information that would be tedious to acquire by hand. From the statistics of this project, I found out novels are not strictly following the \"100-150 characters per period\" rule. It depends on the genre and the author's narrative method."
   ]
  }
 ],
 "metadata": {
  "kernelspec": {
   "display_name": "Python 3",
   "language": "python",
   "name": "python3"
  },
  "language_info": {
   "codemirror_mode": {
    "name": "ipython",
    "version": 3
   },
   "file_extension": ".py",
   "mimetype": "text/x-python",
   "name": "python",
   "nbconvert_exporter": "python",
   "pygments_lexer": "ipython3",
   "version": "3.6.1"
  }
 },
 "nbformat": 4,
 "nbformat_minor": 1
}
